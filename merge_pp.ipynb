{
 "cells": [
  {
   "cell_type": "code",
   "execution_count": 3,
   "id": "51cbcaa5-239d-4b97-803c-e818ffbc2cb4",
   "metadata": {},
   "outputs": [],
   "source": [
    "import numpy as np\n",
    "import xarray as xr\n",
    "import os"
   ]
  },
  {
   "cell_type": "code",
   "execution_count": 14,
   "id": "4ffbcbe1-34bd-4215-9bb0-e078bea2ae67",
   "metadata": {},
   "outputs": [
    {
     "ename": "FileNotFoundError",
     "evalue": "[Errno 2] No such file or directory: '/work/bd1022/b381739//postprocessed'",
     "output_type": "error",
     "traceback": [
      "\u001b[0;31m---------------------------------------------------------------------------\u001b[0m",
      "\u001b[0;31mFileNotFoundError\u001b[0m                         Traceback (most recent call last)",
      "Input \u001b[0;32mIn [14]\u001b[0m, in \u001b[0;36m<cell line: 6>\u001b[0;34m()\u001b[0m\n\u001b[1;32m      4\u001b[0m home_path \u001b[38;5;241m=\u001b[39m \u001b[38;5;124m'\u001b[39m\u001b[38;5;124m/home/b/b381739/\u001b[39m\u001b[38;5;124m'\u001b[39m\n\u001b[1;32m      5\u001b[0m path \u001b[38;5;241m=\u001b[39m \u001b[38;5;124mf\u001b[39m\u001b[38;5;124m'\u001b[39m\u001b[38;5;132;01m{\u001b[39;00mwork_path\u001b[38;5;132;01m}\u001b[39;00m\u001b[38;5;124m/\u001b[39m\u001b[38;5;132;01m{\u001b[39;00mexp_name\u001b[38;5;132;01m}\u001b[39;00m\u001b[38;5;124m/postprocessed\u001b[39m\u001b[38;5;124m'\u001b[39m\n\u001b[0;32m----> 6\u001b[0m \u001b[43mos\u001b[49m\u001b[38;5;241;43m.\u001b[39;49m\u001b[43mchdir\u001b[49m\u001b[43m(\u001b[49m\u001b[43mpath\u001b[49m\u001b[43m)\u001b[49m\n",
      "\u001b[0;31mFileNotFoundError\u001b[0m: [Errno 2] No such file or directory: '/work/bd1022/b381739//postprocessed'"
     ]
    }
   ],
   "source": [
    "exp_name = '' \n",
    "\n",
    "work_path = '/work/bd1022/b381739'\n",
    "home_path = '/home/b/b381739/'\n",
    "path = f'{work_path}/{exp_name}/postprocessed'\n",
    "os.chdir(path)"
   ]
  },
  {
   "cell_type": "code",
   "execution_count": 13,
   "id": "f735044c-7e6b-4cec-bb68-57cc945a144c",
   "metadata": {},
   "outputs": [],
   "source": [
    "def read_model_output(infiles):\n",
    "    ds_list = []\n",
    "    for file in infiles:\n",
    "        ds_file = xr.open_dataset(file, engine='netcdf4')\n",
    "        ds_list.append(ds_file)\n",
    "    ds = xr.combine_by_coords(ds_list, combine_attrs='drop_conflicts', data_vars='minimal')\n",
    "    return ds\n",
    "\n",
    "def merge_pp_files(types):\n",
    "    for tp in types:\n",
    "        files = [fi for fi in os.listdir(path) if fi.endswith(f'_{tp}.nc')]\n",
    "        ds = read_model_output(files)\n",
    "        ds.to_netcdf(f'{exp_name}_{tp}.nc')\n",
    "        [os.remove(file) for file in files]\n",
    "    return\n",
    "\n",
    "#types = ['transports_pp', 'pl_sel', 'zm_pp', 'eke_fft']\n",
    "types = ['transports_pp', 'pl_sel', 'zm_pp', 'eke_fft', 'transports_int_pp']\n",
    "merge_pp_files(types)"
   ]
  },
  {
   "cell_type": "code",
   "execution_count": null,
   "id": "4079f07c-742c-4312-83ed-bc11f2cfb7e9",
   "metadata": {},
   "outputs": [],
   "source": []
  },
  {
   "cell_type": "code",
   "execution_count": 3,
   "id": "e1e376a7-0b02-4fa9-ab7f-539cf181ad26",
   "metadata": {},
   "outputs": [],
   "source": [
    "#ds_tp = xr.open_dataset(f'{exp_name}_transports_pp.nc').sortby('time')\n",
    "ds_vdse = xr.open_dataset(f'{exp_name}_vdse_pp.nc').sortby('time')\n",
    "ds_vu = xr.open_dataset(f'{exp_name}_vu_pp.nc').sortby('time')\n",
    "ds_vT = xr.open_dataset(f'{exp_name}_vT_pp.nc').sortby('time')\n",
    "\n",
    "#ds = xr.merge([ds_transports, ds_vdse])\n",
    "ds = xr.merge([ds_vT, ds_vu, ds_vdse])\n",
    "ds.to_netcdf(f'{exp_name}_transports_pp.nc')"
   ]
  }
 ],
 "metadata": {
  "kernelspec": {
   "display_name": "Python 3 (based on the module python3/2022.01)",
   "language": "python",
   "name": "python3_2022_01"
  },
  "language_info": {
   "codemirror_mode": {
    "name": "ipython",
    "version": 3
   },
   "file_extension": ".py",
   "mimetype": "text/x-python",
   "name": "python",
   "nbconvert_exporter": "python",
   "pygments_lexer": "ipython3",
   "version": "3.9.9"
  }
 },
 "nbformat": 4,
 "nbformat_minor": 5
}
